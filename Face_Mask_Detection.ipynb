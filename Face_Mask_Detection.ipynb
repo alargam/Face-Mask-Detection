{
 "cells": [
  {
   "cell_type": "markdown",
   "metadata": {},
   "source": [
    "## Face Mask Detection Project\n"
   ]
  },
  {
   "cell_type": "markdown",
   "metadata": {},
   "source": [
    "we get the data from :https://www.kaggle.com/datasets/omkargurav/face-mask-dataset?resource=download"
   ]
  },
  {
   "cell_type": "markdown",
   "metadata": {},
   "source": [
    "# Importing the Dependencies"
   ]
  },
  {
   "cell_type": "code",
   "execution_count": 1,
   "metadata": {},
   "outputs": [],
   "source": [
    "import os\n",
    "import numpy as np\n",
    "import matplotlib.pyplot as plt\n",
    "import cv2\n",
    "from sklearn.model_selection import train_test_split\n",
    "import tensorflow as tf\n",
    "from tensorflow import keras\n"
   ]
  },
  {
   "cell_type": "code",
   "execution_count": 18,
   "metadata": {},
   "outputs": [
    {
     "name": "stdout",
     "output_type": "stream",
     "text": [
      "Loaded 3725 images from folder: D:\\Project\\AI Project\\Face Mask Detection Dataset\\data\\data\\with_mask\n",
      "Loaded 3828 images from folder: D:\\Project\\AI Project\\Face Mask Detection Dataset\\data\\data\\without_mask\n"
     ]
    }
   ],
   "source": [
    "# Set the paths of image to folders \n",
    "with_mask_folder = r'D:\\Project\\AI Project\\Face Mask Detection Dataset\\data\\data\\with_mask'\n",
    "\n",
    "without_mask_folder = r'D:\\Project\\AI Project\\Face Mask Detection Dataset\\data\\data\\without_mask'\n",
    "\n",
    "# Function to load and resize images\n",
    "def load_and_resize_images(folder):\n",
    "    images = []\n",
    "    for filename in os.listdir(folder):\n",
    "        image_path = os.path.join(folder, filename)\n",
    "        img = cv2.imread(image_path)\n",
    "        if img is not None:\n",
    "            img = cv2.resize(img, (128, 128))  # Resize images to 128x128\n",
    "            images.append(img)\n",
    "        else:\n",
    "            print(f\"Failed to load image: {image_path}\")  # Print error if image not loaded\n",
    "    print(f\"Loaded {len(images)} images from folder: {folder}\")\n",
    "    return images\n",
    "\n",
    "\n",
    "# Load and resize images with masks\n",
    "with_mask_images = load_and_resize_images(with_mask_folder)\n",
    "\n",
    "# Load and resize images without masks\n",
    "without_mask_images = load_and_resize_images(without_mask_folder)\n"
   ]
  },
  {
   "cell_type": "markdown",
   "metadata": {},
   "source": [
    "# Creating Labels for two class of Image\n",
    "With mask    --> 1\n",
    "\n",
    "without mask --> 0"
   ]
  },
  {
   "cell_type": "code",
   "execution_count": 3,
   "metadata": {},
   "outputs": [],
   "source": [
    "# Creating labels for Images\n",
    "with_mask_labels = np.ones(len(with_mask_images))\n",
    "\n",
    "\n",
    "without_mask_labels = np.zeros(len(without_mask_images))"
   ]
  },
  {
   "cell_type": "code",
   "execution_count": 4,
   "metadata": {},
   "outputs": [],
   "source": [
    "# Concatenate the images and labels\n",
    "X = np.array(with_mask_images + without_mask_images)\n",
    "Y = np.concatenate((with_mask_labels , without_mask_labels), axis=0)"
   ]
  },
  {
   "cell_type": "markdown",
   "metadata": {},
   "source": [
    "## Train Test Split"
   ]
  },
  {
   "cell_type": "code",
   "execution_count": 5,
   "metadata": {},
   "outputs": [],
   "source": [
    "X_train, X_test, Y_train, Y_test = train_test_split(X, Y, test_size=0.2, random_state=2)"
   ]
  },
  {
   "cell_type": "code",
   "execution_count": 6,
   "metadata": {},
   "outputs": [
    {
     "name": "stdout",
     "output_type": "stream",
     "text": [
      "X_train shape: (6042, 128, 128, 3)\n",
      "Y_train shape: (6042,)\n",
      "X_test shape: (1511, 128, 128, 3)\n",
      "Y_test shape: (1511,)\n"
     ]
    }
   ],
   "source": [
    "# Print shapes for confirmation\n",
    "\n",
    "print(\"X_train shape:\", X_train.shape)\n",
    "print(\"Y_train shape:\", Y_train.shape)\n",
    "print(\"X_test shape:\", X_test.shape)\n",
    "print(\"Y_test shape:\", Y_test.shape)"
   ]
  },
  {
   "cell_type": "code",
   "execution_count": 7,
   "metadata": {},
   "outputs": [],
   "source": [
    "# Scaling the data \n",
    "X_train_scaled = X_train/255\n",
    "X_test_scaled = X_test/255"
   ]
  },
  {
   "cell_type": "markdown",
   "metadata": {},
   "source": [
    "## Building a Convolution Neural Networks (CNN)"
   ]
  },
  {
   "cell_type": "code",
   "execution_count": 8,
   "metadata": {},
   "outputs": [
    {
     "name": "stderr",
     "output_type": "stream",
     "text": [
      "c:\\Users\\Alargam Mohamed\\AppData\\Local\\Programs\\Python\\Python312\\Lib\\site-packages\\keras\\src\\layers\\convolutional\\base_conv.py:107: UserWarning: Do not pass an `input_shape`/`input_dim` argument to a layer. When using Sequential models, prefer using an `Input(shape)` object as the first layer in the model instead.\n",
      "  super().__init__(activity_regularizer=activity_regularizer, **kwargs)\n"
     ]
    }
   ],
   "source": [
    "num_of_classes = 2\n",
    "\n",
    "model = keras.Sequential()\n",
    "\n",
    "model.add(keras.layers.Conv2D(32, kernel_size=(3,3), activation='relu', input_shape=(128,128,3)))\n",
    "model.add(keras.layers.MaxPooling2D(pool_size=(2,2)))\n",
    "\n",
    "model.add(keras.layers.Conv2D(64, kernel_size=(3,3), activation='relu'))\n",
    "model.add(keras.layers.MaxPooling2D(pool_size=(2,2)))\n",
    "\n",
    "model.add(keras.layers.Flatten())\n",
    "\n",
    "model.add(keras.layers.Dense(128, activation='relu'))\n",
    "model.add(keras.layers.Dropout(0.5))\n",
    "\n",
    "model.add(keras.layers.Dense(64, activation='relu'))\n",
    "model.add(keras.layers.Dropout(0.5))\n",
    "\n",
    "model.add(keras.layers.Dense(num_of_classes, activation='sigmoid'))\n"
   ]
  },
  {
   "cell_type": "code",
   "execution_count": 9,
   "metadata": {},
   "outputs": [],
   "source": [
    "# Compile the neural networks\n",
    "model.compile(optimizer= \"adam\",\n",
    "              loss= 'sparse_categorical_crossentropy', \n",
    "              metrics=['acc'])"
   ]
  },
  {
   "cell_type": "code",
   "execution_count": 10,
   "metadata": {},
   "outputs": [
    {
     "name": "stdout",
     "output_type": "stream",
     "text": [
      "Epoch 1/5\n",
      "\u001b[1m170/170\u001b[0m \u001b[32m━━━━━━━━━━━━━━━━━━━━\u001b[0m\u001b[37m\u001b[0m \u001b[1m22s\u001b[0m 124ms/step - acc: 0.7274 - loss: 0.6340 - val_acc: 0.8926 - val_loss: 0.2611\n",
      "Epoch 2/5\n",
      "\u001b[1m170/170\u001b[0m \u001b[32m━━━━━━━━━━━━━━━━━━━━\u001b[0m\u001b[37m\u001b[0m \u001b[1m20s\u001b[0m 117ms/step - acc: 0.8661 - loss: 0.3270 - val_acc: 0.9091 - val_loss: 0.2328\n",
      "Epoch 3/5\n",
      "\u001b[1m170/170\u001b[0m \u001b[32m━━━━━━━━━━━━━━━━━━━━\u001b[0m\u001b[37m\u001b[0m \u001b[1m20s\u001b[0m 119ms/step - acc: 0.8943 - loss: 0.2527 - val_acc: 0.9025 - val_loss: 0.2556\n",
      "Epoch 4/5\n",
      "\u001b[1m170/170\u001b[0m \u001b[32m━━━━━━━━━━━━━━━━━━━━\u001b[0m\u001b[37m\u001b[0m \u001b[1m20s\u001b[0m 119ms/step - acc: 0.9020 - loss: 0.2437 - val_acc: 0.9174 - val_loss: 0.2174\n",
      "Epoch 5/5\n",
      "\u001b[1m170/170\u001b[0m \u001b[32m━━━━━━━━━━━━━━━━━━━━\u001b[0m\u001b[37m\u001b[0m \u001b[1m20s\u001b[0m 117ms/step - acc: 0.9254 - loss: 0.1961 - val_acc: 0.9240 - val_loss: 0.2038\n"
     ]
    }
   ],
   "source": [
    "history = model.fit(X_train_scaled, Y_train, validation_split= 0.1, epochs=5)"
   ]
  },
  {
   "cell_type": "markdown",
   "metadata": {},
   "source": [
    "## Model Evaluation"
   ]
  },
  {
   "cell_type": "code",
   "execution_count": 11,
   "metadata": {},
   "outputs": [
    {
     "name": "stdout",
     "output_type": "stream",
     "text": [
      "\u001b[1m48/48\u001b[0m \u001b[32m━━━━━━━━━━━━━━━━━━━━\u001b[0m\u001b[37m\u001b[0m \u001b[1m1s\u001b[0m 24ms/step - acc: 0.9166 - loss: 0.1887\n",
      "Test Accuracy = 0.9245532751083374\n"
     ]
    }
   ],
   "source": [
    "loss, accuracy = model.evaluate(X_test_scaled, Y_test)\n",
    "print('Test Accuracy =', accuracy)"
   ]
  },
  {
   "cell_type": "code",
   "execution_count": 12,
   "metadata": {},
   "outputs": [
    {
     "data": {
      "image/png": "[encoded data removed]",
      "text/plain": [
       "<Figure size 640x480 with 1 Axes>"
      ]
     },
     "metadata": {},
     "output_type": "display_data"
    }
   ],
   "source": [
    "h = history\n",
    "\n",
    "# plot the loss value\n",
    "plt.plot(h.history['loss'], label= 'train loss')\n",
    "plt.plot(h.history['val_loss'], label= 'validation loss')\n",
    "plt.legend()\n",
    "plt.show()"
   ]
  },
  {
   "cell_type": "code",
   "execution_count": 13,
   "metadata": {},
   "outputs": [
    {
     "data": {
      "image/png": "[encoded data removed]",
      "text/plain": [
       "<Figure size 640x480 with 1 Axes>"
      ]
     },
     "metadata": {},
     "output_type": "display_data"
    }
   ],
   "source": [
    "# plot the accuracy value\n",
    "plt.plot(h.history['acc'], label='train accuracy')\n",
    "plt.plot(h.history['val_acc'], label='validation accuracy')\n",
    "plt.legend()\n",
    "plt.show()"
   ]
  },
  {
   "cell_type": "markdown",
   "metadata": {},
   "source": [
    "## Prediction System"
   ]
  },
  {
   "cell_type": "code",
   "execution_count": 14,
   "metadata": {},
   "outputs": [
    {
     "name": "stdout",
     "output_type": "stream",
     "text": [
      "\u001b[1m1/1\u001b[0m \u001b[32m━━━━━━━━━━━━━━━━━━━━\u001b[0m\u001b[37m\u001b[0m \u001b[1m0s\u001b[0m 65ms/step\n",
      "1\n",
      "The person in the image is wearing a mask\n"
     ]
    }
   ],
   "source": [
    "input_image_path = input('Path of the image to be predicted: ')\n",
    "input_image = cv2.imread(input_image_path)\n",
    "input_image_resized = cv2.resize(input_image, (128,128))\n",
    "input_image_scaled = input_image_resized / 255\n",
    "input_image_reshaped = np.reshape(input_image_scaled, (1,128,128,3))\n",
    "input_prediction = model.predict(input_image_reshaped)\n",
    "input_pred_label = np.argmax(input_prediction)\n",
    "\n",
    "print(input_pred_label)\n",
    "if input_pred_label == 1:\n",
    "    print('The person in the image is wearing a mask')\n",
    "else:\n",
    "    print('The person in the image is not wearing a mask')\n"
   ]
  }
 ],
 "metadata": {
  "kernelspec": {
   "display_name": "Python 3",
   "language": "python",
   "name": "python3"
  },
  "language_info": {
   "codemirror_mode": {
    "name": "ipython",
    "version": 3
   },
   "file_extension": ".py",
   "mimetype": "text/x-python",
   "name": "python",
   "nbconvert_exporter": "python",
   "pygments_lexer": "ipython3",
   "version": "3.12.3"
  }
 },
 "nbformat": 4,
 "nbformat_minor": 2
}
